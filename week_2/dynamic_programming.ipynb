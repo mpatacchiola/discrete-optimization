{
 "cells": [
  {
   "cell_type": "markdown",
   "metadata": {},
   "source": [
    "Dynamic Programming\n",
    "===================\n",
    "\n",
    "Dynamic programming is both a mathematical optimization method and a computer programming method. The method was developed by Richard Bellman in the 1950s [[wiki]](https://en.wikipedia.org/wiki/Dynamic_programming). In both contexts it refers to simplifying a complicated problem by breaking it down into simpler sub-problems in a **recursive manner**.\n",
    "\n",
    "If sub-problems can be nested recursively inside larger problems, so that dynamic programming methods are applicable, then there is a relation between the value of the larger problem and the values of the sub-problems. In the optimization literature this relationship is called the **Bellman equation**."
   ]
  },
  {
   "cell_type": "markdown",
   "metadata": {},
   "source": [
    "Application to the knapsack problem\n",
    "----------------------------------------------------\n",
    "\n",
    "The idea is to create a **weight-value table** that can be used to find a solution to the knapsack problem. The rows of the table represent the weight, that is a discrete value from 0 to $K$, where $K$ is the **size of the knapsack**. The column represent the items we have, and the numbers inside the cells of the table are the values of the items I can put into the knapsack. We suppose to start from 0 items, and then increase the number. We have a table that has $K$ rows.  The number of columns is equal to the number of item visited (starting from zero). Every time we visit an item we add a column to our table. The idea is to solve a sub-problem every time we visit a new item, and in the end use the solutions to these sub-problems to find the final solution. Remember: during the solution of the sub-problems we still do not have any cloue about which items we must take and which ones we must discard. This is something we get only at the very end.\n",
    "\n",
    "**Example:** in this example the size of the knapsack is $K=9$. We start from the zero column. This column has all zeros, it is empty. We pass to the first item. This item has weight $w_1 = 4$ and value $v_1 = 5$. We have to fill all the rows $r$ that are greater than equal the weight of the item with the value of the item. In our case the rows from 4 to 9 are filled with 5, the value of the item:\n",
    "\n",
    "<p align=\"center\">\n",
    "<img src=\"./images/dynamic_programming_1.png\" width=\"200\">\n",
    "</p>"
   ]
  },
  {
   "cell_type": "markdown",
   "metadata": {},
   "source": [
    "Now we have to repeat the same process for the **second item**. The new item has value $v_2=6$ and weight $w_2=5$. Now we have to take into account the current item and the previous item. \n",
    "\n",
    "**Row=4, Col=2**: when the capacity (row of the table) is less than the weight of the current item but it can store the previous item, we fill the cell with the value of the previous item. The idea is that it is better to take something instead of nothing, since for that capacity we can put the first item into the knapsack.\n",
    "\n",
    "<p align=\"center\">\n",
    "<img src=\"./images/dynamic_programming_2.png\" width=\"250\">\n",
    "</p>\n",
    "\n",
    "**Row=5-8, Col=2**: now the capacity is enough for storing the second item, that has greater value. We can then fill these cells with the value of the second item that is 6.\n",
    "\n",
    "**Row=9, Col=2**: for a capacity of 9 we can store both the first item (weight of 4) and the second (weight of 5). The combined value of the two objects is 11.\n",
    "\n",
    "\n"
   ]
  },
  {
   "cell_type": "markdown",
   "metadata": {},
   "source": [
    "Now we pass to the **third item**. This item has weight $w_3 = 2$ and value $v_3 = 3$. We start from **row=0** and we cannot do anything because nothing can be put inside this kind of knapsack. At **row=1** we cannot still put the third item, because its weight is greater than 1. We check the column of the previous item to see if we can put it inside. In our case we cannot, because the capacity is still not enough. At **row=2** we can now put the third item inside, because its weight is 2. We write the value of the third item in location **row=2, col=3**. The same is done for **row=3, col=3**. \n",
    "\n",
    "**Col=3, Row=4** we now have a problem, in this location we can put something different from item 3, because the column on the left has a number in the same location, meaning that if we do not keep the current item we can still gain something. What we write in this location? To take a decision we have to examine the two possible scenarios. The **first scenario** is that we take the current item, that has a value of $v_3 = 3$ and a weight of $w_3 = 2$. Since the current row is 4 it means that we have a leftover in the total capacity that is given by $4 - w_3 = 2$. We have to check if we can carry something else using this weight. We go to the previous column, and we check the value stored in **row=2**. In this case the value is zero, meaning that this portion of weight is lost if we choose this first scenario. The **second scenario** is the one in which we discard the current item, and we use the weight to carry something else. We check the value written in the previous column at the same location, that is 5. The second scenario will allow us to get a total value of 5 for a weight of 4. This is a good deal! We accept and we write this value in the current location.\n",
    "\n",
    "<p align=\"center\">\n",
    "<img src=\"./images/dynamic_programming_3.png\" width=\"300\">\n",
    "</p>"
   ]
  },
  {
   "cell_type": "markdown",
   "metadata": {},
   "source": [
    "Similar reasoning can be applied for position **row=5, col=3**, that in this case is filled with the value 6.\n",
    "\n",
    "**Col=3, Row=6** this is another particular case and we have to deal again with the two possible scenarios. **First scenario**, we select the current item that has a value of 3 and a weight of 2. We still have some empty weight that is $6 - w_3 = 4$. We can use this leftover to carry something. We go check position 4 in the previous column, and we find stored the value of 5. Meaning that our complessive value would be $5 + v_3 = 8$. The **second scenario**, is given by discarding the current item, and taking something else. The maximum value we would get in this case is given by the value stored in the same location, in the previous column, that is 6 in our example. \n",
    "\n",
    "The second scenario would give us a value of 6, the first scenario a value of 8. This means that it is convenient to follow the first scenario and keep the current item, plus use the leftover to carry something else. It is important to state that at the moment we do not care about which items combination we need to get the maximum possible value, this is something we will find at the very end of the algorithm.\n",
    "\n",
    "<p align=\"center\">\n",
    "<img src=\"./images/dynamic_programming_4.png\" width=\"300\">\n",
    "</p>\n"
   ]
  },
  {
   "cell_type": "markdown",
   "metadata": {},
   "source": [
    "**Col=3, Row=7-9** here we apply the same procedure described for the previous row.\n",
    "\n",
    "<p align=\"center\">\n",
    "<img src=\"./images/dynamic_programming_5.png\" width=\"300\">\n",
    "</p>"
   ]
  },
  {
   "cell_type": "markdown",
   "metadata": {},
   "source": [
    "**Final solution:** we have now filled the table and we can use it to decide which item we must take and which item we must discard. We start from the very last value in **row=9, col=3** that is 11. We check the previous column **col=2** at the same location, and we find the same value. This means that item 3 is not necessary to achieve the total value of 11 and can be discarded. We are now in  **row=9, col=2** and we repeat the process, we move in the previous column, same location, and we find a different value that is 5. This mean that the item 1 is also necessary in order to achieve the total value of 11. Before moving to the previous column, we have to remove the weight of item 2 from column 1, the resulting location is **row=4, col=1**. This is the location we have to use for another step of the algorithm. We can repeat this process for all the remaining items until the column zero is reached.\n",
    "\n",
    "<p align=\"center\">\n",
    "<img src=\"./images/dynamic_programming_6.png\" width=\"300\">\n",
    "</p>"
   ]
  },
  {
   "cell_type": "markdown",
   "metadata": {},
   "source": [
    "A formal approach\n",
    "--------------------------\n",
    "\n",
    "The knapsack problem is generally presented in the following form:\n",
    "\n",
    "<p align=\"center\">\n",
    "<img src=\"./images/dynamic_programming_7.png\" width=\"300\">\n",
    "</p>\n",
    "\n",
    "where each item is a variable $x_i$ (in this case we have 4 variables), that can assume only two states 0 (do not take the item) or 1 (take the item). The value is associated to the variable as a constant term. For instance the value of $x_1$ is 16 in this example. The constraint is defined using the same variables but different constants, representing the weight of each item. The weight of $x_1$ is 2 in this case. The total capacity is here 7, and is used as an upper bound in the constraint. This problem can be solved using the same approach, obtaining the following table:\n",
    "\n",
    "<p align=\"center\">\n",
    "<img src=\"./images/dynamic_programming_8.png\" width=\"300\">\n",
    "</p>"
   ]
  },
  {
   "cell_type": "code",
   "execution_count": null,
   "metadata": {},
   "outputs": [],
   "source": []
  }
 ],
 "metadata": {
  "kernelspec": {
   "display_name": "Python 2",
   "language": "python",
   "name": "python2"
  },
  "language_info": {
   "codemirror_mode": {
    "name": "ipython",
    "version": 2
   },
   "file_extension": ".py",
   "mimetype": "text/x-python",
   "name": "python",
   "nbconvert_exporter": "python",
   "pygments_lexer": "ipython2",
   "version": "2.7.15rc1"
  }
 },
 "nbformat": 4,
 "nbformat_minor": 2
}
